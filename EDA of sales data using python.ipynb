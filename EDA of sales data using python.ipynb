{
 "cells": [
  {
   "cell_type": "code",
   "execution_count": null,
   "id": "85fdd93a",
   "metadata": {},
   "outputs": [],
   "source": [
    "import numpy as np\n",
    "import pandas as pd\n",
    "import matplotlib.pyplot as plt\n",
    "import seaborn as sns\n",
    "\n",
    "df = pd.read_csv(r'C:\\Users\\Sujal\\Downloads\\Python_Diwali_Sales_Analysis-main\\Python_Diwali_Sales_Analysis-main\\Diwali Sales Data.csv' , encoding='unicode_escape' )\n",
    "\n",
    "\n",
    "df.shape\n"
   ]
  },
  {
   "cell_type": "code",
   "execution_count": null,
   "id": "752b391f",
   "metadata": {},
   "outputs": [],
   "source": [
    "df.drop(['Status', 'unnamed1'], axis=1, inplace=True)"
   ]
  },
  {
   "cell_type": "code",
   "execution_count": null,
   "id": "2c27c777",
   "metadata": {},
   "outputs": [],
   "source": [
    "pd.isnull(df).sum()"
   ]
  },
  {
   "cell_type": "code",
   "execution_count": null,
   "id": "45432b97",
   "metadata": {},
   "outputs": [],
   "source": [
    "df.dropna(inplace=True)"
   ]
  },
  {
   "cell_type": "code",
   "execution_count": null,
   "id": "e20d6a78",
   "metadata": {},
   "outputs": [],
   "source": [
    "df['Amount'] = df['Amount'].astype('int')"
   ]
  },
  {
   "cell_type": "code",
   "execution_count": null,
   "id": "ff11fb47",
   "metadata": {},
   "outputs": [],
   "source": [
    "df.columns\n"
   ]
  },
  {
   "cell_type": "code",
   "execution_count": null,
   "id": "7cd81bc1",
   "metadata": {},
   "outputs": [],
   "source": [
    "ax = sns.countplot(x='Gender', data=df, palette='Set1')\n",
    "for bar in ax.containers:\n",
    "    ax.bar_label(bar)"
   ]
  },
  {
   "cell_type": "code",
   "execution_count": null,
   "id": "cccb2285",
   "metadata": {},
   "outputs": [],
   "source": [
    "sales_gen = df.groupby(['Gender'], as_index=False)['Amount'].sum().sort_values(by='Amount', ascending=False)"
   ]
  },
  {
   "cell_type": "code",
   "execution_count": null,
   "id": "4715d3bb",
   "metadata": {},
   "outputs": [],
   "source": [
    "sns.barplot(x='Gender', y ='Amount', data = sales_gen, palette='Set1')"
   ]
  },
  {
   "cell_type": "code",
   "execution_count": null,
   "id": "ad8b60f5",
   "metadata": {},
   "outputs": [],
   "source": [
    "ax = sns.countplot(x='Age Group', data=df , hue='Gender', palette='Set1')\n",
    "for bar in ax.containers:\n",
    "    ax.bar_label(bar)"
   ]
  },
  {
   "cell_type": "markdown",
   "id": "e90bc875",
   "metadata": {},
   "source": [
    "women are spending more than men."
   ]
  },
  {
   "cell_type": "code",
   "execution_count": null,
   "id": "d9e199c8",
   "metadata": {},
   "outputs": [],
   "source": [
    "sales_age = df.groupby(['Age Group'], as_index=False)['Amount'].sum().sort_values(by ='Amount', ascending=False)\n",
    "\n",
    "sns.barplot(x='Age Group', y ='Amount', data = sales_age, palette='Set1')"
   ]
  },
  {
   "cell_type": "markdown",
   "id": "f9003a98",
   "metadata": {},
   "source": [
    "most of the buyers are from age froup 26-35 years"
   ]
  },
  {
   "cell_type": "code",
   "execution_count": null,
   "id": "0c58fd3f",
   "metadata": {},
   "outputs": [],
   "source": [
    "sales_state = df.groupby('State', as_index=False)['Orders'].sum().sort_values(by='Orders', ascending=False).head(10)\n",
    "sns.set(rc={'figure.figsize':(15,5)})\n",
    "sns.barplot(x='State', y='Orders', data=sales_state, palette='Set1')"
   ]
  },
  {
   "cell_type": "code",
   "execution_count": null,
   "id": "afb58093",
   "metadata": {},
   "outputs": [],
   "source": [
    "sales_state_amount = df.groupby(['State'], as_index=False)['Amount'].sum().sort_values(by='Amount', ascending=False).head(10)\n",
    "sns.set(rc={'figure.figsize': (15, 5)})\n",
    "\n",
    "sns.barplot(x='State', y='Amount', data=sales_state_amount, palette='Set1')"
   ]
  },
  {
   "cell_type": "code",
   "execution_count": null,
   "id": "189b2aad",
   "metadata": {},
   "outputs": [],
   "source": [
    "Sales_Occu = df.groupby('Occupation', as_index=False)['Orders'].sum().sort_values(by='Orders', ascending=False).head(10)\n",
    "sns.set(rc={'figure.figsize': (15,5)})\n",
    "\n",
    "sns.barplot(x='Occupation', y='Orders', data=Sales_Occu, palette='Set2')"
   ]
  },
  {
   "cell_type": "markdown",
   "id": "dba4bc69",
   "metadata": {},
   "source": [
    "Perchasing power : IT,HealthCare,Aviation,Banking,Govt"
   ]
  },
  {
   "cell_type": "code",
   "execution_count": null,
   "id": "f88fe95d",
   "metadata": {},
   "outputs": [],
   "source": [
    "ax=sns.countplot(x='Marital_Status', data=df, palette='Set1')  \n",
    "sns.set(rc={'figure.figsize': (7, 7)})\n",
    "for bar in ax.containers:\n",
    "    ax.bar_label(bar)"
   ]
  },
  {
   "cell_type": "code",
   "execution_count": null,
   "id": "c9bf6f26",
   "metadata": {},
   "outputs": [],
   "source": [
    "Sales_Meri = df.groupby(['Marital_Status', 'Gender'])['Amount'].sum().reset_index().sort_values('Amount', ascending=False)\n",
    "\n",
    "sns.barplot(x='Marital_Status', y='Amount', data=Sales_Meri, hue='Gender', palette='Set1')\n",
    "\n"
   ]
  },
  {
   "cell_type": "markdown",
   "id": "e90eb7b4",
   "metadata": {},
   "source": [
    "unmarried women are spending more than unmarried men, merried women and men."
   ]
  },
  {
   "cell_type": "code",
   "execution_count": null,
   "id": "74f2eef7",
   "metadata": {},
   "outputs": [],
   "source": [
    "sns.set(rc={'figure.figsize': (23, 5)})\n",
    "sns.countplot(x='Product_Category', data=df,palette='Set1') "
   ]
  },
  {
   "cell_type": "code",
   "execution_count": null,
   "id": "f99af13d",
   "metadata": {},
   "outputs": [],
   "source": [
    "sales_Product = df.groupby(['Product_Category'], as_index=False)['Orders'].sum().sort_values(by='Orders', ascending=False).head(10)\n",
    "sns.set(rc={'figure.figsize': (23, 5)})\n",
    "sns.barplot(x='Product_Category', y='Orders', data=sales_Product, palette='Set1')"
   ]
  },
  {
   "cell_type": "code",
   "execution_count": null,
   "id": "07383e24",
   "metadata": {},
   "outputs": [],
   "source": [
    "sales_product = df.groupby(['Product_Category'], as_index=False)['Amount'].sum().sort_values(by='Amount', ascending=False).head(10)\n",
    "sns.set(rc={'figure.figsize': (23, 5)}) \n",
    "sns.barplot(x='Product_Category', y='Amount', data=sales_product, palette='Set1')"
   ]
  },
  {
   "cell_type": "markdown",
   "id": "7402f51f",
   "metadata": {},
   "source": [
    "clothing and food are most ordered and generated most revenue."
   ]
  },
  {
   "cell_type": "code",
   "execution_count": null,
   "id": "8091f5e9",
   "metadata": {},
   "outputs": [],
   "source": [
    "sales_P_ID = df.groupby(['Product_ID'], as_index=False)['Orders'].sum().sort_values(by ='Orders', ascending=False).head(10)\n",
    "\n",
    "sns.set(rc={'figure.figsize': (23, 5)})\n",
    "sns.barplot(x='Product_ID', y='Orders', data=sales_P_ID, palette='Set1')"
   ]
  },
  {
   "cell_type": "code",
   "execution_count": null,
   "id": "d6014d55",
   "metadata": {},
   "outputs": [],
   "source": []
  }
 ],
 "metadata": {
  "kernelspec": {
   "display_name": "Python 3",
   "language": "python",
   "name": "python3"
  },
  "language_info": {
   "codemirror_mode": {
    "name": "ipython",
    "version": 3
   },
   "file_extension": ".py",
   "mimetype": "text/x-python",
   "name": "python",
   "nbconvert_exporter": "python",
   "pygments_lexer": "ipython3",
   "version": "3.13.2"
  }
 },
 "nbformat": 4,
 "nbformat_minor": 5
}
